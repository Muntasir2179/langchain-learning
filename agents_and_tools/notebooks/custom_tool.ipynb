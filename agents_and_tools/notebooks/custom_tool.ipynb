{
 "cells": [
  {
   "cell_type": "markdown",
   "metadata": {},
   "source": [
    "## Importing required packages"
   ]
  },
  {
   "cell_type": "code",
   "execution_count": 1,
   "metadata": {},
   "outputs": [],
   "source": [
    "from pydantic import BaseModel, Field\n",
    "from langchain.tools import BaseTool, StructuredTool, tool"
   ]
  },
  {
   "cell_type": "markdown",
   "metadata": {},
   "source": [
    "## Custom tool example"
   ]
  },
  {
   "cell_type": "code",
   "execution_count": 2,
   "metadata": {},
   "outputs": [
    {
     "name": "stdout",
     "output_type": "stream",
     "text": [
      "search\n",
      "Look up things online.\n",
      "{'query': {'title': 'Query', 'type': 'string'}}\n"
     ]
    }
   ],
   "source": [
    "# using decorator to declare a function as tool\n",
    "@tool\n",
    "def search(query: str) -> str:\n",
    "    \"\"\"Look up things online.\"\"\"\n",
    "    return \"LangChain\"\n",
    "\n",
    "print(search.name)\n",
    "print(search.description)\n",
    "print(search.args)"
   ]
  },
  {
   "cell_type": "code",
   "execution_count": 3,
   "metadata": {},
   "outputs": [
    {
     "name": "stdout",
     "output_type": "stream",
     "text": [
      "search-tool\n",
      "Look up things online.\n",
      "{'query': {'description': 'Should be a search query', 'title': 'Query', 'type': 'string'}}\n"
     ]
    }
   ],
   "source": [
    "class SearchInput(BaseModel):\n",
    "    query: str = Field(description=\"Should be a search query\")\n",
    "\n",
    "@tool(\"search-tool\", args_schema=SearchInput, return_direct=True)\n",
    "def search(query: str) -> str:\n",
    "    \"\"\"Look up things online.\"\"\"\n",
    "    return \"LangChain\"\n",
    "\n",
    "print(search.name)\n",
    "print(search.description)\n",
    "print(search.args)"
   ]
  },
  {
   "cell_type": "code",
   "execution_count": 4,
   "metadata": {},
   "outputs": [
    {
     "name": "stdout",
     "output_type": "stream",
     "text": [
      "Search\n",
      "useful for when you need to answer question about current events\n",
      "{'query': {'title': 'Query', 'type': 'string'}}\n"
     ]
    }
   ],
   "source": [
    "def search_function(query: str):\n",
    "    return \"LangChain\"\n",
    "\n",
    "search = StructuredTool.from_function(\n",
    "    func=search_function,\n",
    "    name=\"Search\",\n",
    "    description=\"useful for when you need to answer question about current events\"\n",
    ")\n",
    "\n",
    "print(search.name)\n",
    "print(search.description)\n",
    "print(search.args)"
   ]
  },
  {
   "cell_type": "code",
   "execution_count": 5,
   "metadata": {},
   "outputs": [
    {
     "name": "stdout",
     "output_type": "stream",
     "text": [
      "LangChain\n"
     ]
    }
   ],
   "source": [
    "result = search.invoke(input=\"What is langchain?\")\n",
    "print(result)"
   ]
  },
  {
   "cell_type": "markdown",
   "metadata": {},
   "source": [
    "## How to use with LLM agent"
   ]
  },
  {
   "cell_type": "code",
   "execution_count": 6,
   "metadata": {},
   "outputs": [
    {
     "name": "stdout",
     "output_type": "stream",
     "text": [
      "get_word_length\n",
      "Returns the length of the word.\n",
      "{'word': {'title': 'Word', 'type': 'string'}}\n"
     ]
    }
   ],
   "source": [
    "@tool\n",
    "def get_word_length(word: str) -> int:\n",
    "    \"\"\"Returns the length of the word.\"\"\"\n",
    "    return len(word)\n",
    "\n",
    "\n",
    "print(get_word_length.name)\n",
    "print(get_word_length.description)\n",
    "print(get_word_length.args)"
   ]
  },
  {
   "cell_type": "code",
   "execution_count": 7,
   "metadata": {},
   "outputs": [],
   "source": [
    "from langchain_core.prompts import ChatPromptTemplate, MessagesPlaceholder\n",
    "\n",
    "# building chat prompt template\n",
    "prompt = ChatPromptTemplate.from_messages(\n",
    "    [\n",
    "        (\n",
    "            \"system\",\n",
    "            \"You are an intelligent assistant. You are provided with a tool to calculate a word's length. Use these tool to answer question whenever you need.\"\n",
    "        ),\n",
    "        (\"user\", \"{input}\"),\n",
    "        MessagesPlaceholder(variable_name=\"agent_scratchpad\")\n",
    "    ]\n",
    ")"
   ]
  },
  {
   "cell_type": "markdown",
   "metadata": {},
   "source": [
    "### Binding tools and executing LLM agents"
   ]
  },
  {
   "cell_type": "code",
   "execution_count": 8,
   "metadata": {},
   "outputs": [],
   "source": [
    "from dotenv import load_dotenv\n",
    "from langchain_groq import ChatGroq\n",
    "from langchain.agents.format_scratchpad import format_to_tool_messages\n",
    "from langchain.agents.output_parsers import ToolsAgentOutputParser\n",
    "from langchain.agents import AgentExecutor\n",
    "\n",
    "load_dotenv()\n",
    "\n",
    "\n",
    "llm_with_tools = ChatGroq(model=\"mixtral-8x7b-32768\").bind_tools(tools=[get_word_length])\n",
    "\n",
    "# building an Agent\n",
    "agent = (\n",
    "    {\n",
    "        \"input\": lambda x: x[\"input\"],\n",
    "        \"agent_scratchpad\": lambda x: format_to_tool_messages(x[\"intermediate_steps\"])\n",
    "    }\n",
    "    | prompt\n",
    "    | llm_with_tools\n",
    "    | ToolsAgentOutputParser()\n",
    ")\n",
    "\n",
    "agent_executor = AgentExecutor(agent=agent, tools=[get_word_length], verbose=True)"
   ]
  },
  {
   "cell_type": "code",
   "execution_count": 9,
   "metadata": {},
   "outputs": [
    {
     "name": "stdout",
     "output_type": "stream",
     "text": [
      "\n",
      "\n",
      "\u001b[1m> Entering new AgentExecutor chain...\u001b[0m\n",
      "\u001b[32;1m\u001b[1;3m\n",
      "Invoking: `get_word_length` with `{'word': 'Muntasir'}`\n",
      "\n",
      "\n",
      "\u001b[0m\u001b[36;1m\u001b[1;3m8\u001b[0m\u001b[32;1m\u001b[1;3mThe word 'Muntasir' contains 8 letters.\u001b[0m\n",
      "\n",
      "\u001b[1m> Finished chain.\u001b[0m\n"
     ]
    },
    {
     "data": {
      "text/plain": [
       "[{'actions': [ToolAgentAction(tool='get_word_length', tool_input={'word': 'Muntasir'}, log=\"\\nInvoking: `get_word_length` with `{'word': 'Muntasir'}`\\n\\n\\n\", message_log=[AIMessageChunk(content='', additional_kwargs={'tool_calls': [{'index': 0, 'id': 'call_n0ff', 'function': {'arguments': '{\"word\":\"Muntasir\"}', 'name': 'get_word_length'}, 'type': 'function'}]}, response_metadata={'finish_reason': 'tool_calls'}, id='run-0117b461-02e8-4c89-b27b-829dd428ef57', tool_calls=[{'name': 'get_word_length', 'args': {'word': 'Muntasir'}, 'id': 'call_n0ff', 'type': 'tool_call'}], usage_metadata={'input_tokens': 1205, 'output_tokens': 94, 'total_tokens': 1299}, tool_call_chunks=[{'name': 'get_word_length', 'args': '{\"word\":\"Muntasir\"}', 'id': 'call_n0ff', 'index': 0, 'type': 'tool_call_chunk'}])], tool_call_id='call_n0ff')],\n",
       "  'messages': [AIMessageChunk(content='', additional_kwargs={'tool_calls': [{'index': 0, 'id': 'call_n0ff', 'function': {'arguments': '{\"word\":\"Muntasir\"}', 'name': 'get_word_length'}, 'type': 'function'}]}, response_metadata={'finish_reason': 'tool_calls'}, id='run-0117b461-02e8-4c89-b27b-829dd428ef57', tool_calls=[{'name': 'get_word_length', 'args': {'word': 'Muntasir'}, 'id': 'call_n0ff', 'type': 'tool_call'}], usage_metadata={'input_tokens': 1205, 'output_tokens': 94, 'total_tokens': 1299}, tool_call_chunks=[{'name': 'get_word_length', 'args': '{\"word\":\"Muntasir\"}', 'id': 'call_n0ff', 'index': 0, 'type': 'tool_call_chunk'}])]},\n",
       " {'steps': [AgentStep(action=ToolAgentAction(tool='get_word_length', tool_input={'word': 'Muntasir'}, log=\"\\nInvoking: `get_word_length` with `{'word': 'Muntasir'}`\\n\\n\\n\", message_log=[AIMessageChunk(content='', additional_kwargs={'tool_calls': [{'index': 0, 'id': 'call_n0ff', 'function': {'arguments': '{\"word\":\"Muntasir\"}', 'name': 'get_word_length'}, 'type': 'function'}]}, response_metadata={'finish_reason': 'tool_calls'}, id='run-0117b461-02e8-4c89-b27b-829dd428ef57', tool_calls=[{'name': 'get_word_length', 'args': {'word': 'Muntasir'}, 'id': 'call_n0ff', 'type': 'tool_call'}], usage_metadata={'input_tokens': 1205, 'output_tokens': 94, 'total_tokens': 1299}, tool_call_chunks=[{'name': 'get_word_length', 'args': '{\"word\":\"Muntasir\"}', 'id': 'call_n0ff', 'index': 0, 'type': 'tool_call_chunk'}])], tool_call_id='call_n0ff'), observation=8)],\n",
       "  'messages': [FunctionMessage(content='8', additional_kwargs={}, response_metadata={}, name='get_word_length')]},\n",
       " {'output': \"The word 'Muntasir' contains 8 letters.\",\n",
       "  'messages': [AIMessage(content=\"The word 'Muntasir' contains 8 letters.\", additional_kwargs={}, response_metadata={})]}]"
      ]
     },
     "execution_count": 9,
     "metadata": {},
     "output_type": "execute_result"
    }
   ],
   "source": [
    "list(agent_executor.stream(input={\"input\": \"How many letters in the word 'Muntasir'?\"}))"
   ]
  }
 ],
 "metadata": {
  "kernelspec": {
   "display_name": "langchain",
   "language": "python",
   "name": "python3"
  },
  "language_info": {
   "codemirror_mode": {
    "name": "ipython",
    "version": 3
   },
   "file_extension": ".py",
   "mimetype": "text/x-python",
   "name": "python",
   "nbconvert_exporter": "python",
   "pygments_lexer": "ipython3",
   "version": "3.12.4"
  }
 },
 "nbformat": 4,
 "nbformat_minor": 2
}
